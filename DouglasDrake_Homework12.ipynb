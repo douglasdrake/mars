{
 "cells": [
  {
   "cell_type": "code",
   "execution_count": 18,
   "metadata": {},
   "outputs": [],
   "source": [
    "# import dependencies\n",
    "\n",
    "from splinter import Browser\n",
    "from bs4 import BeautifulSoup\n",
    "import mars_urls as mars\n",
    "\n",
    "def init_browser():\n",
    "    # @NOTE: Replace the path with your actual path to the chromedriver\n",
    "    executable_path = {\"executable_path\": \"C:\\chromedrv\\chromedriver.exe\"}\n",
    "    return Browser(\"chrome\", **executable_path, headless=True)"
   ]
  },
  {
   "cell_type": "code",
   "execution_count": 19,
   "metadata": {},
   "outputs": [],
   "source": [
    "# Scrape the latest news headline from the NASA Mars Mission\n",
    "# Path to results working as of May 15, 2019\n",
    "\n",
    "def scrape_news_article(nasa_url=mars.NASA_URL, nasa_news_url=mars.NASA_NEWS_URL):\n",
    "    \"\"\"\n",
    "    Args:  The URL for the NASA Mars Mission and the URL for the news section.\n",
    "    Returns the title and first paragraph for the most recent article in the latest news.\n",
    "    \"\"\"\n",
    "    # Initialize and move the browser to the URL\n",
    "    browser = init_browser()\n",
    "    browser.visit(nasa_news_url)\n",
    "    \n",
    "    # retrieve html and pass to Beautiful Soup for parsing\n",
    "    html = browser.html\n",
    "    soup = BeautifulSoup(html, \"html.parser\")\n",
    "    \n",
    "    # from the main page we can get teaser titles and bodies\n",
    "    titles = soup.find_all('div', class_=\"content_title\")\n",
    "    first_story = titles[0]\n",
    "    first_story_title = first_story.get_text()\n",
    "    first_story_anchor = first_story.find('a', target=\"_self\")\n",
    "    first_story_url = first_story_anchor.get('href')\n",
    "    \n",
    "    # short story body from the main page:\n",
    "    bodies = soup.find_all('div', class_='article_teaser_body')\n",
    "    first_body = bodies[0]\n",
    "    first_story_oneliner = first_body.get_text()\n",
    "    \n",
    "    # Now move the broswer to the full story page and grab the first paragraph.\n",
    "    first_story_url = nasa_url + first_story_url\n",
    "    browser.visit(first_story_url)\n",
    "    \n",
    "    html = browser.html\n",
    "    soup = BeautifulSoup(html, \"html.parser\")\n",
    "    \n",
    "    titles = soup.find_all('h1', class_=\"article_title\")\n",
    "    first_title = titles[0].get_text().strip()\n",
    "    \n",
    "    first_paragraph = soup.find_all('p')[0].get_text()\n",
    "    \n",
    "    return first_story_title, first_story_oneliner, first_paragraph"
   ]
  },
  {
   "cell_type": "code",
   "execution_count": 20,
   "metadata": {},
   "outputs": [
    {
     "data": {
      "text/plain": [
       "(\"NASA's MRO Completes 60,000 Trips Around Mars\",\n",
       " 'The orbiting spacecraft is also about to set a record for data relayed from the Martian surface.',\n",
       " \"MRO Soaring Over Mars: This still from an animation shows NASA's Mars Reconnaissance Orbiter soaring over Mars. The spacecraft has been in Mars orbit for 13 years, and just completed 60,000 trips around the planet. Image credit: NASA/JPL-Caltech\")"
      ]
     },
     "execution_count": 20,
     "metadata": {},
     "output_type": "execute_result"
    }
   ],
   "source": [
    "scrape_news_article()"
   ]
  },
  {
   "cell_type": "code",
   "execution_count": 8,
   "metadata": {},
   "outputs": [],
   "source": [
    "# Scrape the latest featured image from the JPL Mars page\n",
    "# Path to results working as of May 15, 2019\n",
    "\n",
    "def scrape_jpl_featured_image(jpl_url=mars.JPL_URL, jpl_mars_url=mars.JPL_MARS_URL):\n",
    "    \"\"\"\n",
    "    Return URL for the current day's featured Mars image.  The input args are the \n",
    "    current URLs to the JPL and the JPL's featured Mars image of the day.\n",
    "    \"\"\"\n",
    "    \n",
    "    # initialize browser\n",
    "    browser = init_browser()\n",
    "\n",
    "    # visit the main Mars featured image site.\n",
    "    browser.visit(jpl_mars_url)\n",
    "    \n",
    "    # grab the html and pass to BeautifulSoup for parsing\n",
    "    jpl_html = browser.html\n",
    "    jpl_soup = BeautifulSoup(jpl_html, \"html.parser\")\n",
    "    \n",
    "    # As of May 14, 2019, one way to grab the featured image URL is the following:\n",
    "    # We can find the link to the story for the background image\n",
    "    story_anchor = jpl_soup.find_all('a', class_=\"button fancybox\")[0] \n",
    "    story_url = story_anchor.get('data-link')\n",
    "    story_url = jpl_url + story_url\n",
    "    #print(story_url)\n",
    "    \n",
    "    # now move the browser to the story page\n",
    "    browser.visit(story_url)\n",
    "    story_html = browser.html\n",
    "    story_soup = BeautifulSoup(story_html, \"html.parser\")\n",
    "    \n",
    "    # on the story page, there is a URL to the full-size image\n",
    "    full_image_anchor = story_soup.find_all('img', class_=\"main_image\")[0] \n",
    "    full_image_url = full_image_anchor.get('src')\n",
    "    \n",
    "    return jpl_url + full_image_url"
   ]
  },
  {
   "cell_type": "code",
   "execution_count": 9,
   "metadata": {},
   "outputs": [
    {
     "data": {
      "text/plain": [
       "'https://www.jpl.nasa.gov/spaceimages/images/largesize/PIA14762_hires.jpg'"
      ]
     },
     "execution_count": 9,
     "metadata": {},
     "output_type": "execute_result"
    }
   ],
   "source": [
    "scrape_jpl_featured_image()"
   ]
  },
  {
   "cell_type": "code",
   "execution_count": 10,
   "metadata": {},
   "outputs": [],
   "source": [
    "mars.MARS_FACTS_URL = \"https://space-facts.com/mars/\"\n",
    "import pandas as pd\n",
    "\n",
    "def scrape_mars_facts(mars_facts_url = mars.MARS_FACTS_URL):\n",
    "    \"\"\"\n",
    "    \"\"\"\n",
    "    tables = pd.read_html(mars_facts_url)\n",
    "    mars_df = tables[0]\n",
    "    mars_df.columns = [\"description\", \"value\"]\n",
    "    mars_df.set_index(\"description\", inplace=True)\n",
    "    \n",
    "    return mars_df"
   ]
  },
  {
   "cell_type": "code",
   "execution_count": 11,
   "metadata": {},
   "outputs": [
    {
     "data": {
      "text/html": [
       "<div>\n",
       "<style scoped>\n",
       "    .dataframe tbody tr th:only-of-type {\n",
       "        vertical-align: middle;\n",
       "    }\n",
       "\n",
       "    .dataframe tbody tr th {\n",
       "        vertical-align: top;\n",
       "    }\n",
       "\n",
       "    .dataframe thead th {\n",
       "        text-align: right;\n",
       "    }\n",
       "</style>\n",
       "<table border=\"1\" class=\"dataframe\">\n",
       "  <thead>\n",
       "    <tr style=\"text-align: right;\">\n",
       "      <th></th>\n",
       "      <th>value</th>\n",
       "    </tr>\n",
       "    <tr>\n",
       "      <th>description</th>\n",
       "      <th></th>\n",
       "    </tr>\n",
       "  </thead>\n",
       "  <tbody>\n",
       "    <tr>\n",
       "      <th>Equatorial Diameter:</th>\n",
       "      <td>6,792 km</td>\n",
       "    </tr>\n",
       "    <tr>\n",
       "      <th>Polar Diameter:</th>\n",
       "      <td>6,752 km</td>\n",
       "    </tr>\n",
       "    <tr>\n",
       "      <th>Mass:</th>\n",
       "      <td>6.42 x 10^23 kg (10.7% Earth)</td>\n",
       "    </tr>\n",
       "    <tr>\n",
       "      <th>Moons:</th>\n",
       "      <td>2 (Phobos &amp; Deimos)</td>\n",
       "    </tr>\n",
       "    <tr>\n",
       "      <th>Orbit Distance:</th>\n",
       "      <td>227,943,824 km (1.52 AU)</td>\n",
       "    </tr>\n",
       "    <tr>\n",
       "      <th>Orbit Period:</th>\n",
       "      <td>687 days (1.9 years)</td>\n",
       "    </tr>\n",
       "    <tr>\n",
       "      <th>Surface Temperature:</th>\n",
       "      <td>-153 to 20 °C</td>\n",
       "    </tr>\n",
       "    <tr>\n",
       "      <th>First Record:</th>\n",
       "      <td>2nd millennium BC</td>\n",
       "    </tr>\n",
       "    <tr>\n",
       "      <th>Recorded By:</th>\n",
       "      <td>Egyptian astronomers</td>\n",
       "    </tr>\n",
       "  </tbody>\n",
       "</table>\n",
       "</div>"
      ],
      "text/plain": [
       "                                              value\n",
       "description                                        \n",
       "Equatorial Diameter:                       6,792 km\n",
       "Polar Diameter:                            6,752 km\n",
       "Mass:                 6.42 x 10^23 kg (10.7% Earth)\n",
       "Moons:                          2 (Phobos & Deimos)\n",
       "Orbit Distance:            227,943,824 km (1.52 AU)\n",
       "Orbit Period:                  687 days (1.9 years)\n",
       "Surface Temperature:                  -153 to 20 °C\n",
       "First Record:                     2nd millennium BC\n",
       "Recorded By:                   Egyptian astronomers"
      ]
     },
     "execution_count": 11,
     "metadata": {},
     "output_type": "execute_result"
    }
   ],
   "source": [
    "scrape_mars_facts()"
   ]
  },
  {
   "cell_type": "code",
   "execution_count": 4,
   "metadata": {},
   "outputs": [],
   "source": [
    "mars.MARS_USGS = \"https://astrogeology.usgs.gov\"\n",
    "\n",
    "def scrape_mars_hemispheres(usgs_url=mars.MARS_USGS, hemispheres_url=mars.MARS_HEMISPHERES):\n",
    "    \"\"\"\n",
    "    Return URL for the current day's featured Mars image.  The input args are the \n",
    "    current URLs to the JPL and the JPL's featured Mars image of the day.\n",
    "    \"\"\"\n",
    "    \n",
    "    # initialize browser\n",
    "    browser = init_browser()\n",
    "\n",
    "    # visit the Mars hemispheres site.\n",
    "    browser.visit(hemispheres_url)\n",
    "    \n",
    "    # Now search for each hemisphere name in a link\n",
    "    # A list of hemisphere names\n",
    "    hemispheres = [\"Cerberus\", \"Schiaparelli\", \"Syrtis Major\", \"Valles Marineris\"]\n",
    "\n",
    "    hemisphere_image_urls = []\n",
    "    \n",
    "    for hemisphere in hemispheres:\n",
    "        title = browser.find_link_by_partial_text(hemisphere).first.text\n",
    "        browser.click_link_by_partial_text(hemisphere)\n",
    "        html = browser.html\n",
    "        soup = BeautifulSoup(html, \"html.parser\")\n",
    "        suburl = soup.find_all('img', class_=\"wide-image\")[0].get('src')\n",
    "        img_url = usgs_url + suburl\n",
    "        \n",
    "        hemisphere_image_urls.append({'title': title, 'img_url': img_url})\n",
    "        browser.back()\n",
    "        \n",
    "    return hemisphere_image_urls"
   ]
  },
  {
   "cell_type": "code",
   "execution_count": 5,
   "metadata": {},
   "outputs": [
    {
     "data": {
      "text/plain": [
       "[{'title': 'Cerberus Hemisphere Enhanced',\n",
       "  'img_url': 'https://astrogeology.usgs.gov/cache/images/cfa62af2557222a02478f1fcd781d445_cerberus_enhanced.tif_full.jpg'},\n",
       " {'title': 'Schiaparelli Hemisphere Enhanced',\n",
       "  'img_url': 'https://astrogeology.usgs.gov/cache/images/3cdd1cbf5e0813bba925c9030d13b62e_schiaparelli_enhanced.tif_full.jpg'},\n",
       " {'title': 'Syrtis Major Hemisphere Enhanced',\n",
       "  'img_url': 'https://astrogeology.usgs.gov/cache/images/ae209b4e408bb6c3e67b6af38168cf28_syrtis_major_enhanced.tif_full.jpg'},\n",
       " {'title': 'Valles Marineris Hemisphere Enhanced',\n",
       "  'img_url': 'https://astrogeology.usgs.gov/cache/images/7cf2da4bf549ed01c17f206327be4db7_valles_marineris_enhanced.tif_full.jpg'}]"
      ]
     },
     "execution_count": 5,
     "metadata": {},
     "output_type": "execute_result"
    }
   ],
   "source": [
    "scrape_mars_hemispheres()"
   ]
  },
  {
   "cell_type": "code",
   "execution_count": 16,
   "metadata": {},
   "outputs": [],
   "source": [
    "browser=init_browser()"
   ]
  },
  {
   "cell_type": "code",
   "execution_count": 17,
   "metadata": {},
   "outputs": [],
   "source": []
  },
  {
   "cell_type": "code",
   "execution_count": null,
   "metadata": {},
   "outputs": [],
   "source": []
  }
 ],
 "metadata": {
  "kernelspec": {
   "display_name": "Python 3",
   "language": "python",
   "name": "python3"
  },
  "language_info": {
   "codemirror_mode": {
    "name": "ipython",
    "version": 3
   },
   "file_extension": ".py",
   "mimetype": "text/x-python",
   "name": "python",
   "nbconvert_exporter": "python",
   "pygments_lexer": "ipython3",
   "version": "3.6.7"
  }
 },
 "nbformat": 4,
 "nbformat_minor": 2
}
